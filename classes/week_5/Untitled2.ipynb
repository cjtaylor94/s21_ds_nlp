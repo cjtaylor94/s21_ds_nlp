{
 "cells": [
  {
   "cell_type": "code",
   "execution_count": null,
   "metadata": {},
   "outputs": [],
   "source": [
    "import spacy"
   ]
  },
  {
   "cell_type": "code",
   "execution_count": null,
   "metadata": {},
   "outputs": [],
   "source": [
    "nlp = spacy.load(\"en\")"
   ]
  },
  {
   "cell_type": "code",
   "execution_count": null,
   "metadata": {},
   "outputs": [],
   "source": [
    "text = \"\"\"\n",
    "The death toll from a coronavirus outbreak in China’s Hubei province rose by 116 on Friday, health officials said, less than half the number of deaths from the day before, when Japan reported its first fatality.\n",
    "\n",
    "Passengers onboard MS Westerdam, a cruise ship that spent two weeks at sea after being turned away by five countries over fears that someone aboard might have the coronavirus, are seen in Sihanoukville, Cambodia February 14, 2020. REUTERS/Soe Zeya Tun\n",
    "Hubei province’s health commission said it had recorded 4,823 new cases of the flu-like virus that emerged in the provincial capital, Wuhan, in December.\n",
    "\n",
    "The number infections was down sharply on the previous day, when a change in the methods of diagnosing patients led to a record spike in cases.\n",
    "\n",
    "The epidemic has given China’s ruling Communist Party one of its sternest challenges in years, constrained the world’s second-largest economy and triggered a purge of provincial bureaucrats.\n",
    "\n",
    "Japan confirmed its first coronavirus death on Thursday - a woman in her 80s living in Kanagawa prefecture near Tokyo - adding to two previous fatalities in Hong Kong and the Philippines.\n",
    "\n",
    "Japan is one of the worst affected of more than two dozen countries and territories outside mainland China that have seen hundreds of infections from the flu-like sickness.\n",
    "\n",
    "A cruise liner quarantined off a Japanese port has more than 200 people confirmed with the disease. Authorities have said they will allow some elderly people to disembark on Friday.\n",
    "\n",
    "Passengers on another cruise ship that spent two weeks at sea after being turned away by five countries over coronavirus fears started disembarking in Cambodia on Friday.\n",
    "\n",
    "The MS Westerdam, carrying 1,455 passengers and 802 crew, docked in the Cambodian port town of Sihanoukville on Thursday. It had anchored offshore early in the morning to allow Cambodian officials to board and collect samples from passengers with any signs of ill health or flu-like symptoms.\n",
    "\n",
    "TRUMP PRAISES CHINESE RESPONSE\n",
    "\n",
    "The surge of new cases reported on Thursday dented hopes the epidemic might soon be reaching a peak and halted a global stocks rally. [MKTS/GLOB]\n",
    "\n",
    "However, the rise in China’s reported cases reflected a decision by authorities there to reclassify a backlog of suspected cases by using patients’ chest images, and is not necessarily the “tip of an iceberg” of a wider epidemic, a top World Health Organization official said on Thursday.\n",
    "\n",
    "Mike Ryan, head of WHO’s health emergencies program, said more than 14,000 new cases reported in Hubei province on Thursday came after a change to include results from quicker computerized tomography (CT) scans that reveal lung infections, rather than relying just on laboratory tests to confirm cases.\n",
    "\n",
    "\"We've seen this spike in the number of cases reported in China, but this does not represent a significant change in the trajectory of the outbreak,\" Ryan told a briefing in Geneva. Graphic: Comparing new coronavirus to SARS and MERS - here\n",
    "\n",
    "U.S. President Donald Trump praised China over its response and said Washington was working closely with Beijing. “I think they’ve handled it professionally, and I think they’re extremely capable,” Trump said in a podcast broadcast on iHeart Radio.\n",
    "\n",
    "But Trump’s top White House economic adviser, Larry Kudlow, was more critical. “We’re a little disappointed in the lack of transparency coming from the Chinese, these numbers are jumping around ... there was some surprise,” he told reporters.\n",
    "\n",
    "BACKLASH AGAINST BUREAUCRATS\n",
    "\n",
    "The outbreak, believed to have emerged from a Wuhan market where wildlife was traded illegally, has triggered a backlash against local political leaders.\n",
    "\n",
    "Provincial Communist Party boss Jiang Chaoliang was fired as secretary of the Hubei Provincial Committee, and Ma Guoqiang removed as party chief in Wuhan, state media said. They were the two highest-profile officials to be axed since the outbreak.\n",
    "\n",
    "Economists have assessing the impact of the outbreak on the world’s second-largest economy and scaling back their expectations for growth this year.\n",
    "\n",
    "China’s economy will grow at its slowest rate since the global financial crisis in the current quarter, according to a Reuters poll of economists who said the downturn will be short-lived if the outbreak is contained.\n",
    "\n",
    "Reporting by Yilei Sun and David Stanway in Beijing; Rocky Swift and Elaine Lies in Tokyo; Prak Chan Thul in Sihanoukville; Stephanie Nebehay in Geneva; Writing by Lincoln Feast; Editing by Stephen Coates\n",
    "\"\"\""
   ]
  },
  {
   "cell_type": "code",
   "execution_count": null,
   "metadata": {},
   "outputs": [],
   "source": [
    "analyzed = nlp(text)"
   ]
  },
  {
   "cell_type": "code",
   "execution_count": null,
   "metadata": {},
   "outputs": [],
   "source": [
    "list(analyzed.sents)"
   ]
  },
  {
   "cell_type": "code",
   "execution_count": null,
   "metadata": {},
   "outputs": [],
   "source": [
    "num_sentences = len(list(analyzed.sents))\n",
    "print(num_sentences)"
   ]
  },
  {
   "cell_type": "code",
   "execution_count": null,
   "metadata": {},
   "outputs": [],
   "source": [
    "words = [token for token in list(analyzed) if token.is_alpha]\n",
    "num_words = len(words)\n",
    "print(num_words)"
   ]
  },
  {
   "cell_type": "code",
   "execution_count": null,
   "metadata": {},
   "outputs": [],
   "source": [
    "syllables = [1 + int(len(token)/2) for token in list(analyzed) if token.is_alpha]\n",
    "print(syllables)\n",
    "num_syllables = sum(syllables)\n",
    "print(num_syllables)"
   ]
  },
  {
   "cell_type": "code",
   "execution_count": null,
   "metadata": {},
   "outputs": [],
   "source": [
    "score = 206.835 - (1.015*(num_words/num_sentences)) - (84.6 * (num_syllables/num_words))\n",
    "print(score)"
   ]
  },
  {
   "cell_type": "code",
   "execution_count": null,
   "metadata": {},
   "outputs": [],
   "source": []
  }
 ],
 "metadata": {
  "kernelspec": {
   "display_name": "Python 3",
   "language": "python",
   "name": "python3"
  },
  "language_info": {
   "codemirror_mode": {
    "name": "ipython",
    "version": 3
   },
   "file_extension": ".py",
   "mimetype": "text/x-python",
   "name": "python",
   "nbconvert_exporter": "python",
   "pygments_lexer": "ipython3",
   "version": "3.7.6"
  }
 },
 "nbformat": 4,
 "nbformat_minor": 2
}
